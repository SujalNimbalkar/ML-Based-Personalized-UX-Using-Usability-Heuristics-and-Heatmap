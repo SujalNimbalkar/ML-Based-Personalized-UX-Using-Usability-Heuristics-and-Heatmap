{
 "cells": [
  {
   "cell_type": "code",
   "execution_count": 2,
   "metadata": {},
   "outputs": [],
   "source": [
    "import os\n",
    "import cv2\n",
    "import numpy as np"
   ]
  },
  {
   "cell_type": "code",
   "execution_count": 3,
   "metadata": {},
   "outputs": [],
   "source": [
    "# Directories for the original and augmented images\n",
    "input_dir_yes = 'dataset/YES/'\n",
    "input_dir_no = 'dataset/NO/'\n",
    "augmented_dir_yes = 'dataset/Augmented/YES/'\n",
    "augmented_dir_no = 'dataset/Augmented/NO/'\n",
    "\n",
    "# Ensure the augmented directories exist\n",
    "os.makedirs(augmented_dir_yes, exist_ok=True)\n",
    "os.makedirs(augmented_dir_no, exist_ok=True)\n"
   ]
  },
  {
   "cell_type": "code",
   "execution_count": 4,
   "metadata": {},
   "outputs": [],
   "source": [
    "# Function to apply augmentations\n",
    "def augment_image(image, num_augmentations=100):\n",
    "    augmented_images = []\n",
    "    \n",
    "    for _ in range(num_augmentations):\n",
    "        aug_img = image.copy()\n",
    "        \n",
    "        # Random rotation\n",
    "        angle = np.random.choice([0, 90, 180, 270])\n",
    "        if angle != 0:\n",
    "            aug_img = cv2.rotate(aug_img, cv2.ROTATE_90_CLOCKWISE if angle == 90 else cv2.ROTATE_180 if angle == 180 else cv2.ROTATE_90_COUNTERCLOCKWISE)\n",
    "        \n",
    "        # Random horizontal flip\n",
    "        if np.random.rand() > 0.5:\n",
    "            aug_img = cv2.flip(aug_img, 1)\n",
    "        \n",
    "        # Random scaling (zoom in/out)\n",
    "        scale_factor = np.random.uniform(0.8, 1.2)\n",
    "        h, w = aug_img.shape[:2]\n",
    "        aug_img = cv2.resize(aug_img, (int(w * scale_factor), int(h * scale_factor)))\n",
    "        aug_img = cv2.resize(aug_img, (w, h))  # Resize back to original size\n",
    "        \n",
    "        # Add random noise\n",
    "        noise = np.random.randint(0, 50, (aug_img.shape[0], aug_img.shape[1]), dtype='uint8')\n",
    "        aug_img = cv2.add(aug_img, noise)\n",
    "        \n",
    "        # Random brightness/contrast adjustment\n",
    "        alpha = np.random.uniform(0.8, 1.2)  # Contrast control\n",
    "        beta = np.random.randint(-30, 30)    # Brightness control\n",
    "        aug_img = cv2.convertScaleAbs(aug_img, alpha=alpha, beta=beta)\n",
    "        \n",
    "        augmented_images.append(aug_img)\n",
    "    \n",
    "    return augmented_images"
   ]
  },
  {
   "cell_type": "code",
   "execution_count": 5,
   "metadata": {},
   "outputs": [],
   "source": [
    "# Function to process and augment images in a directory\n",
    "def process_and_augment_images(input_dir, augmented_dir, num_augmentations_per_image=100):\n",
    "    for heatmap_file in os.listdir(input_dir):\n",
    "        if heatmap_file.endswith('.png'):\n",
    "            # Load the original heatmap\n",
    "            heatmap = cv2.imread(os.path.join(input_dir, heatmap_file), cv2.IMREAD_GRAYSCALE)\n",
    "            \n",
    "            # Save the original heatmap in the augmented directory\n",
    "            cv2.imwrite(os.path.join(augmented_dir, heatmap_file), heatmap)\n",
    "            \n",
    "            # Augment the image\n",
    "            augmented_images = augment_image(heatmap, num_augmentations=num_augmentations_per_image)\n",
    "            \n",
    "            # Save the augmented images\n",
    "            for idx, aug_img in enumerate(augmented_images):\n",
    "                aug_filename = f'{os.path.splitext(heatmap_file)[0]}_aug{idx}.png'\n",
    "                cv2.imwrite(os.path.join(augmented_dir, aug_filename), aug_img)"
   ]
  },
  {
   "cell_type": "code",
   "execution_count": 9,
   "metadata": {},
   "outputs": [],
   "source": [
    "# Function to get the list of image files in a directory\n",
    "def get_image_list(input_dir):\n",
    "    return [f for f in os.listdir(input_dir) if f.endswith('.png')]"
   ]
  },
  {
   "cell_type": "code",
   "execution_count": null,
   "metadata": {},
   "outputs": [
    {
     "name": "stderr",
     "output_type": "stream",
     "text": [
      "Processing images:   0%|          | 0/10 [00:00<?, ?it/s]\n"
     ]
    },
    {
     "ename": "TypeError",
     "evalue": "augment_image() takes from 1 to 2 positional arguments but 3 were given",
     "output_type": "error",
     "traceback": [
      "\u001b[0;31m---------------------------------------------------------------------------\u001b[0m",
      "\u001b[0;31mTypeError\u001b[0m                                 Traceback (most recent call last)",
      "Cell \u001b[0;32mIn[10], line 12\u001b[0m\n\u001b[1;32m      9\u001b[0m         augment_image(image, output_dir, num_augmentations_per_image)\n\u001b[1;32m     11\u001b[0m \u001b[38;5;66;03m# Augment 'YES' and 'NO' heatmaps\u001b[39;00m\n\u001b[0;32m---> 12\u001b[0m \u001b[43mprocess_and_augment_images\u001b[49m\u001b[43m(\u001b[49m\u001b[43minput_dir_yes\u001b[49m\u001b[43m,\u001b[49m\u001b[43m \u001b[49m\u001b[43maugmented_dir_yes\u001b[49m\u001b[43m,\u001b[49m\u001b[43m \u001b[49m\u001b[43mnum_augmentations_per_image\u001b[49m\u001b[38;5;241;43m=\u001b[39;49m\u001b[38;5;241;43m100\u001b[39;49m\u001b[43m)\u001b[49m\n\u001b[1;32m     13\u001b[0m process_and_augment_images(input_dir_no, augmented_dir_no, num_augmentations_per_image\u001b[38;5;241m=\u001b[39m\u001b[38;5;241m100\u001b[39m)\n\u001b[1;32m     15\u001b[0m \u001b[38;5;28mprint\u001b[39m(\u001b[38;5;124m'\u001b[39m\u001b[38;5;124mData augmentation complete!\u001b[39m\u001b[38;5;124m'\u001b[39m)\n",
      "Cell \u001b[0;32mIn[10], line 9\u001b[0m, in \u001b[0;36mprocess_and_augment_images\u001b[0;34m(input_dir, output_dir, num_augmentations_per_image)\u001b[0m\n\u001b[1;32m      5\u001b[0m image_list \u001b[38;5;241m=\u001b[39m get_image_list(input_dir)\n\u001b[1;32m      7\u001b[0m \u001b[38;5;28;01mfor\u001b[39;00m image \u001b[38;5;129;01min\u001b[39;00m tqdm(image_list, desc\u001b[38;5;241m=\u001b[39m\u001b[38;5;124m\"\u001b[39m\u001b[38;5;124mProcessing images\u001b[39m\u001b[38;5;124m\"\u001b[39m):\n\u001b[1;32m      8\u001b[0m     \u001b[38;5;66;03m# Your existing image processing and augmentation code\u001b[39;00m\n\u001b[0;32m----> 9\u001b[0m     \u001b[43maugment_image\u001b[49m\u001b[43m(\u001b[49m\u001b[43mimage\u001b[49m\u001b[43m,\u001b[49m\u001b[43m \u001b[49m\u001b[43moutput_dir\u001b[49m\u001b[43m,\u001b[49m\u001b[43m \u001b[49m\u001b[43mnum_augmentations_per_image\u001b[49m\u001b[43m)\u001b[49m\n",
      "\u001b[0;31mTypeError\u001b[0m: augment_image() takes from 1 to 2 positional arguments but 3 were given"
     ]
    }
   ],
   "source": [
    "# Augment 'YES' and 'NO' heatmaps\n",
    "process_and_augment_images(input_dir_yes, augmented_dir_yes, num_augmentations_per_image=100)\n",
    "process_and_augment_images(input_dir_no, augmented_dir_no, num_augmentations_per_image=100)\n",
    "\n",
    "print('Data augmentation complete!')"
   ]
  },
  {
   "cell_type": "code",
   "execution_count": null,
   "metadata": {},
   "outputs": [],
   "source": []
  }
 ],
 "metadata": {
  "kernelspec": {
   "display_name": "Python 3",
   "language": "python",
   "name": "python3"
  },
  "language_info": {
   "codemirror_mode": {
    "name": "ipython",
    "version": 3
   },
   "file_extension": ".py",
   "mimetype": "text/x-python",
   "name": "python",
   "nbconvert_exporter": "python",
   "pygments_lexer": "ipython3",
   "version": "3.9.6"
  }
 },
 "nbformat": 4,
 "nbformat_minor": 2
}

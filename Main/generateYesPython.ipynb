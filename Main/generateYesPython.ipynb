{
 "cells": [
  {
   "cell_type": "code",
   "execution_count": 1,
   "metadata": {},
   "outputs": [],
   "source": [
    "import numpy as np\n",
    "import matplotlib.pyplot as plt\n",
    "import seaborn as sns\n",
    "from scipy.interpolate import splprep, splev\n",
    "from PIL import Image\n",
    "import gc\n",
    "import os\n",
    "from matplotlib.colors import LinearSegmentedColormap"
   ]
  },
  {
   "cell_type": "code",
   "execution_count": 2,
   "metadata": {},
   "outputs": [],
   "source": [
    "def generate_smooth_mouse_heatmap_custom_color(num_images=5000, width=1920, height=1080, num_paths=3, points_per_path=100):\n",
    "    \"\"\"\n",
    "    Generate multiple heatmaps of smooth mouse movements concentrated in specific areas and save them.\n",
    "\n",
    "    :param num_images: Number of images to generate (default: 5)\n",
    "    :param width: Width of the website/webpage (default: 1920)\n",
    "    :param height: Height of the website/webpage (default: 1080)\n",
    "    :param num_paths: Number of smooth mouse paths to simulate (default: 3)\n",
    "    :param points_per_path: Number of points in each path (default: 100)\n",
    "    \"\"\"\n",
    "    \n",
    "    # Define specific hot zones (x_start, y_start, width, height)\n",
    "    hot_zones = [\n",
    "        (100, 200, 400, 300),  # Example zone 1\n",
    "        (800, 400, 300, 300),  # Example zone 2\n",
    "        (1500, 100, 300, 600), # Example zone 3\n",
    "    ]\n",
    "\n",
    "    for img_index in range(num_images):\n",
    "        mouse_data = []\n",
    "\n",
    "        # Generate multiple smooth mouse movement paths\n",
    "        for _ in range(num_paths):\n",
    "            # Choose a random hot zone\n",
    "            zone = hot_zones[np.random.randint(len(hot_zones))]\n",
    "            x_start = np.random.randint(zone[0], zone[0] + zone[2])\n",
    "            y_start = np.random.randint(zone[1], zone[1] + zone[3])\n",
    "            x_end = np.random.randint(zone[0], zone[0] + zone[2])\n",
    "            y_end = np.random.randint(zone[1], zone[1] + zone[3])\n",
    "\n",
    "            # Control points for the curve (Bezier-like curve)\n",
    "            control_x = np.random.randint(zone[0], zone[0] + zone[2], 4)  # Random intermediate control points\n",
    "            control_y = np.random.randint(zone[1], zone[1] + zone[3], 4)\n",
    "\n",
    "            # Ensure control points are distinct\n",
    "            if len(set(control_x)) < len(control_x) or len(set(control_y)) < len(control_y):\n",
    "                continue\n",
    "\n",
    "            # Add start and end points to control points\n",
    "            x_points = np.concatenate([[x_start], control_x, [x_end]])\n",
    "            y_points = np.concatenate([[y_start], control_y, [y_end]])\n",
    "\n",
    "            # Create smooth curve using splines\n",
    "            try:\n",
    "                tck, u = splprep([x_points, y_points], s=0)\n",
    "                u_new = np.linspace(u.min(), u.max(), points_per_path)\n",
    "                smooth_path = splev(u_new, tck)\n",
    "            except ValueError as e:\n",
    "                print(f\"Skipping path due to error: {e}\")\n",
    "                continue\n",
    "\n",
    "            # Extract the smooth path points and add to the mouse data\n",
    "            x_smooth, y_smooth = smooth_path\n",
    "            mouse_data.extend(list(zip(x_smooth, y_smooth)))\n",
    "\n",
    "        # Create 2D histogram for heatmap\n",
    "        heatmap, xedges, yedges = np.histogram2d(\n",
    "            [x for x, y in mouse_data],\n",
    "            [y for x, y in mouse_data],\n",
    "            bins=[np.arange(0, width, 10), np.arange(0, height, 10)]\n",
    "        )\n",
    "\n",
    "        # Normalize the heatmap for better visibility\n",
    "        heatmap = np.clip(heatmap.T, 0, 255)\n",
    "\n",
    "        # Plotting the heatmap using seaborn with a custom colormap\n",
    "        plt.figure(figsize=(12, 6))\n",
    "        sns.heatmap(heatmap, cmap='coolwarm', cbar=False)  # 'coolwarm' closely matches the red-yellow-blue gradient\n",
    "\n",
    "        # Remove axes for a clean look\n",
    "        plt.axis('off')\n",
    "\n",
    "        # Save the generated heatmap\n",
    "        output_filename = f\"smooth_mouse_heatmap_yes_{img_index + 1}.png\"\n",
    "        plt.savefig(output_filename, bbox_inches='tight', pad_inches=0, dpi=300)\n",
    "        plt.close()\n",
    "\n",
    "        # Clear the plot to free up memory\n",
    "        plt.clf()\n",
    "        plt.close()\n",
    "\n",
    "        # Explicitly call the garbage collector\n",
    "        gc.collect()\n",
    "\n",
    "        # Optionally display the heatmap\n",
    "        # img = Image.open(output_filename)\n",
    "        # img.show()"
   ]
  },
  {
   "cell_type": "code",
   "execution_count": null,
   "metadata": {},
   "outputs": [
    {
     "name": "stderr",
     "output_type": "stream",
     "text": [
      "Exception ignored in: <bound method IPythonKernel._clean_thread_parent_frames of <ipykernel.ipkernel.IPythonKernel object at 0x113cacca0>>\n",
      "Traceback (most recent call last):\n",
      "  File \"/Users/int1770/Library/Python/3.9/lib/python/site-packages/ipykernel/ipkernel.py\", line 775, in _clean_thread_parent_frames\n",
      "    def _clean_thread_parent_frames(\n",
      "KeyboardInterrupt: \n"
     ]
    }
   ],
   "source": [
    "# Example usage to generate multiple heatmaps\n",
    "generate_smooth_mouse_heatmap_custom_color(num_images=5000)"
   ]
  }
 ],
 "metadata": {
  "kernelspec": {
   "display_name": "Python 3",
   "language": "python",
   "name": "python3"
  },
  "language_info": {
   "codemirror_mode": {
    "name": "ipython",
    "version": 3
   },
   "file_extension": ".py",
   "mimetype": "text/x-python",
   "name": "python",
   "nbconvert_exporter": "python",
   "pygments_lexer": "ipython3",
   "version": "3.9.6"
  }
 },
 "nbformat": 4,
 "nbformat_minor": 2
}

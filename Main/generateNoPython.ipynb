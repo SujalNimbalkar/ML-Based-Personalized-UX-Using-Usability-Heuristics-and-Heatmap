{
 "cells": [
  {
   "cell_type": "code",
   "execution_count": 14,
   "metadata": {},
   "outputs": [],
   "source": [
    "import numpy as np\n",
    "import matplotlib.pyplot as plt\n",
    "import seaborn as sns\n",
    "from scipy.interpolate import splprep, splev\n",
    "from PIL import Image\n",
    "import gc\n"
   ]
  },
  {
   "cell_type": "code",
   "execution_count": 15,
   "metadata": {},
   "outputs": [],
   "source": [
    "# Function to generate smooth mouse movement heatmap with scattered appearance\n",
    "def generate_smooth_mouse_heatmap_scattered(num_images=5000, width=1920, height=1080, num_paths=3, points_per_path=100):\n",
    "    \"\"\"\n",
    "    Generate multiple heatmaps of smooth mouse movements with a scattered appearance and save them.\n",
    "\n",
    "    :param num_images: Number of images to generate (default: 5)\n",
    "    :param width: Width of the website/webpage (default: 1920)\n",
    "    :param height: Height of the website/webpage (default: 1080)\n",
    "    :param num_paths: Number of smooth mouse paths to simulate (default: 3)\n",
    "    :param points_per_path: Number of points in each path (default: 100)\n",
    "    \"\"\"\n",
    "    for img_index in range(num_images):\n",
    "        mouse_data = []\n",
    "\n",
    "        # Generate multiple smooth mouse movement paths\n",
    "        for _ in range(num_paths):\n",
    "            # Start and end points for the path with more randomness\n",
    "            start_x, start_y = np.random.randint(0, width), np.random.randint(0, height)\n",
    "            end_x, end_y = np.random.randint(0, width), np.random.randint(0, height)\n",
    "\n",
    "            # Generate more control points for smoother paths\n",
    "            control_x = np.random.randint(0, width, 6)  # 6 random intermediate control points\n",
    "            control_y = np.random.randint(0, height, 6)\n",
    "\n",
    "            # Add start and end points to control points\n",
    "            x_points = np.concatenate([[start_x], control_x, [end_x]])\n",
    "            y_points = np.concatenate([[start_y], control_y, [end_y]])\n",
    "\n",
    "            # Create smooth curve using splines\n",
    "            tck, u = splprep([x_points, y_points], s=0)\n",
    "            u_new = np.linspace(u.min(), u.max(), points_per_path)\n",
    "            smooth_path = splev(u_new, tck)\n",
    "\n",
    "            # Extract the smooth path points and add to the mouse data\n",
    "            x_smooth, y_smooth = smooth_path\n",
    "            mouse_data.extend(list(zip(x_smooth, y_smooth)))\n",
    "\n",
    "        # Create 2D histogram for heatmap with adjusted bins for scattering\n",
    "        heatmap, xedges, yedges = np.histogram2d(\n",
    "            [x for x, y in mouse_data],\n",
    "            [y for x, y in mouse_data],\n",
    "            bins=[np.arange(0, width, 15), np.arange(0, height, 15)]  # Larger bin sizes for more scatter\n",
    "        )\n",
    "\n",
    "        # Normalize the heatmap for better visibility\n",
    "        heatmap = np.clip(heatmap.T, 0, 255)\n",
    "\n",
    "        # Plotting the heatmap using seaborn with a custom colormap (blue -> green -> yellow -> red)\n",
    "        plt.figure(figsize=(12, 6), facecolor='white')  # Set background to white\n",
    "        sns.heatmap(heatmap, cmap='coolwarm', cbar=False)  # Using 'coolwarm' colormap\n",
    "\n",
    "        # Remove axes for a clean look\n",
    "        plt.axis('off')\n",
    "\n",
    "        # Save the generated heatmap\n",
    "        output_filename = f\"smooth_mouse_heatmap_scattered_no_{img_index + 1}.png\"\n",
    "        plt.savefig(output_filename, bbox_inches='tight', pad_inches=0, dpi=300)\n",
    "        \n",
    "        # Clear the plot to free up memory\n",
    "        plt.clf()\n",
    "        plt.close()\n",
    "\n",
    "        # Explicitly call the garbage collector\n",
    "        gc.collect()\n",
    "\n",
    "        # Optionally display the heatmap\n",
    "        # img = Image.open(output_filename)\n",
    "        # img.show()"
   ]
  },
  {
   "cell_type": "code",
   "execution_count": 16,
   "metadata": {},
   "outputs": [],
   "source": [
    "# Example usage to generate multiple heatmaps\n",
    "generate_smooth_mouse_heatmap_scattered(num_images=5000)"
   ]
  }
 ],
 "metadata": {
  "kernelspec": {
   "display_name": "Python 3",
   "language": "python",
   "name": "python3"
  },
  "language_info": {
   "codemirror_mode": {
    "name": "ipython",
    "version": 3
   },
   "file_extension": ".py",
   "mimetype": "text/x-python",
   "name": "python",
   "nbconvert_exporter": "python",
   "pygments_lexer": "ipython3",
   "version": "3.9.6"
  }
 },
 "nbformat": 4,
 "nbformat_minor": 2
}
